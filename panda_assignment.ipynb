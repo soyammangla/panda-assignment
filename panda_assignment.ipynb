{
 "cells": [
  {
   "cell_type": "code",
   "execution_count": 1,
   "id": "f4a869a5-089e-4a09-a919-999b941c7c54",
   "metadata": {},
   "outputs": [],
   "source": [
    "import pandas as pd\n"
   ]
  },
  {
   "cell_type": "code",
   "execution_count": 10,
   "id": "a02357a9-9b52-494c-9fc1-90d4e119ede2",
   "metadata": {},
   "outputs": [],
   "source": [
    "# PART 1: Netflix Movies and TV Show"
   ]
  },
  {
   "cell_type": "code",
   "execution_count": 11,
   "id": "ab389dbe-5de0-4f58-b76a-e28b8abc2b86",
   "metadata": {},
   "outputs": [],
   "source": [
    "# 1. Load the dataset\n",
    "df = pd.read_csv('netflix_titles.csv')\n"
   ]
  },
  {
   "cell_type": "code",
   "execution_count": 5,
   "id": "932494d1-87ad-4062-9553-714964c5fecd",
   "metadata": {},
   "outputs": [
    {
     "name": "stdout",
     "output_type": "stream",
     "text": [
      "First 5 rows:\n",
      "  show_id     type                  title         director  \\\n",
      "0      s1    Movie   Dick Johnson Is Dead  Kirsten Johnson   \n",
      "1      s2  TV Show          Blood & Water              NaN   \n",
      "2      s3  TV Show              Ganglands  Julien Leclercq   \n",
      "3      s4  TV Show  Jailbirds New Orleans              NaN   \n",
      "4      s5  TV Show           Kota Factory              NaN   \n",
      "\n",
      "                                                cast        country  \\\n",
      "0                                                NaN  United States   \n",
      "1  Ama Qamata, Khosi Ngema, Gail Mabalane, Thaban...   South Africa   \n",
      "2  Sami Bouajila, Tracy Gotoas, Samuel Jouy, Nabi...            NaN   \n",
      "3                                                NaN            NaN   \n",
      "4  Mayur More, Jitendra Kumar, Ranjan Raj, Alam K...          India   \n",
      "\n",
      "           date_added  release_year rating   duration  \\\n",
      "0  September 25, 2021          2020  PG-13     90 min   \n",
      "1  September 24, 2021          2021  TV-MA  2 Seasons   \n",
      "2  September 24, 2021          2021  TV-MA   1 Season   \n",
      "3  September 24, 2021          2021  TV-MA   1 Season   \n",
      "4  September 24, 2021          2021  TV-MA  2 Seasons   \n",
      "\n",
      "                                           listed_in  \\\n",
      "0                                      Documentaries   \n",
      "1    International TV Shows, TV Dramas, TV Mysteries   \n",
      "2  Crime TV Shows, International TV Shows, TV Act...   \n",
      "3                             Docuseries, Reality TV   \n",
      "4  International TV Shows, Romantic TV Shows, TV ...   \n",
      "\n",
      "                                         description  \n",
      "0  As her father nears the end of his life, filmm...  \n",
      "1  After crossing paths at a party, a Cape Town t...  \n",
      "2  To protect his family from a powerful drug lor...  \n",
      "3  Feuds, flirtations and toilet talk go down amo...  \n",
      "4  In a city of coaching centers known to train I...  \n",
      "\n",
      "Last 5 rows:\n",
      "     show_id     type        title         director  \\\n",
      "8802   s8803    Movie       Zodiac    David Fincher   \n",
      "8803   s8804  TV Show  Zombie Dumb              NaN   \n",
      "8804   s8805    Movie   Zombieland  Ruben Fleischer   \n",
      "8805   s8806    Movie         Zoom     Peter Hewitt   \n",
      "8806   s8807    Movie       Zubaan      Mozez Singh   \n",
      "\n",
      "                                                   cast        country  \\\n",
      "8802  Mark Ruffalo, Jake Gyllenhaal, Robert Downey J...  United States   \n",
      "8803                                                NaN            NaN   \n",
      "8804  Jesse Eisenberg, Woody Harrelson, Emma Stone, ...  United States   \n",
      "8805  Tim Allen, Courteney Cox, Chevy Chase, Kate Ma...  United States   \n",
      "8806  Vicky Kaushal, Sarah-Jane Dias, Raaghav Chanan...          India   \n",
      "\n",
      "             date_added  release_year rating   duration  \\\n",
      "8802  November 20, 2019          2007      R    158 min   \n",
      "8803       July 1, 2019          2018  TV-Y7  2 Seasons   \n",
      "8804   November 1, 2019          2009      R     88 min   \n",
      "8805   January 11, 2020          2006     PG     88 min   \n",
      "8806      March 2, 2019          2015  TV-14    111 min   \n",
      "\n",
      "                                           listed_in  \\\n",
      "8802                  Cult Movies, Dramas, Thrillers   \n",
      "8803          Kids' TV, Korean TV Shows, TV Comedies   \n",
      "8804                         Comedies, Horror Movies   \n",
      "8805              Children & Family Movies, Comedies   \n",
      "8806  Dramas, International Movies, Music & Musicals   \n",
      "\n",
      "                                            description  \n",
      "8802  A political cartoonist, a crime reporter and a...  \n",
      "8803  While living alone in a spooky town, a young g...  \n",
      "8804  Looking to survive in a world taken over by zo...  \n",
      "8805  Dragged from civilian life, a former superhero...  \n",
      "8806  A scrappy but poor boy worms his way into a ty...  \n"
     ]
    }
   ],
   "source": [
    "\n",
    "# 2. Display the first 5 and last 5 rows\n",
    "print(\"First 5 rows:\")\n",
    "print(df.head())\n",
    "\n",
    "print(\"\\nLast 5 rows:\")\n",
    "print(df.tail())"
   ]
  },
  {
   "cell_type": "code",
   "execution_count": 6,
   "id": "860ff655-5e53-458e-bd6d-64580d3f26d8",
   "metadata": {},
   "outputs": [
    {
     "name": "stdout",
     "output_type": "stream",
     "text": [
      "\n",
      "Number of rows and columns:\n",
      "(8807, 12)\n"
     ]
    }
   ],
   "source": [
    "\n",
    "# 3. Shape of the dataset\n",
    "print(\"\\nNumber of rows and columns:\")\n",
    "print(df.shape)  # returns (rows, columns)\n"
   ]
  },
  {
   "cell_type": "code",
   "execution_count": 7,
   "id": "f09522c2-0e65-4306-8e4c-792ce31eaa18",
   "metadata": {},
   "outputs": [
    {
     "name": "stdout",
     "output_type": "stream",
     "text": [
      "\n",
      "Number of unique countries where content is produced:\n",
      "748\n"
     ]
    }
   ],
   "source": [
    "\n",
    "# 4. Unique countries where content is produced\n",
    "print(\"\\nNumber of unique countries where content is produced:\")\n",
    "print(df['country'].nunique())\n"
   ]
  },
  {
   "cell_type": "code",
   "execution_count": 8,
   "id": "af0e45df-f303-4c72-9371-553b999044d5",
   "metadata": {},
   "outputs": [
    {
     "name": "stdout",
     "output_type": "stream",
     "text": [
      "\n",
      "TV Shows:\n",
      "     show_id     type                  title         director  \\\n",
      "1         s2  TV Show          Blood & Water              NaN   \n",
      "2         s3  TV Show              Ganglands  Julien Leclercq   \n",
      "3         s4  TV Show  Jailbirds New Orleans              NaN   \n",
      "4         s5  TV Show           Kota Factory              NaN   \n",
      "5         s6  TV Show          Midnight Mass    Mike Flanagan   \n",
      "...      ...      ...                    ...              ...   \n",
      "8795   s8796  TV Show        Yu-Gi-Oh! Arc-V              NaN   \n",
      "8796   s8797  TV Show             Yunus Emre              NaN   \n",
      "8797   s8798  TV Show              Zak Storm              NaN   \n",
      "8800   s8801  TV Show     Zindagi Gulzar Hai              NaN   \n",
      "8803   s8804  TV Show            Zombie Dumb              NaN   \n",
      "\n",
      "                                                   cast  \\\n",
      "1     Ama Qamata, Khosi Ngema, Gail Mabalane, Thaban...   \n",
      "2     Sami Bouajila, Tracy Gotoas, Samuel Jouy, Nabi...   \n",
      "3                                                   NaN   \n",
      "4     Mayur More, Jitendra Kumar, Ranjan Raj, Alam K...   \n",
      "5     Kate Siegel, Zach Gilford, Hamish Linklater, H...   \n",
      "...                                                 ...   \n",
      "8795  Mike Liscio, Emily Bauer, Billy Bob Thompson, ...   \n",
      "8796  Gökhan Atalay, Payidar Tüfekçioglu, Baran Akbu...   \n",
      "8797  Michael Johnston, Jessica Gee-George, Christin...   \n",
      "8800  Sanam Saeed, Fawad Khan, Ayesha Omer, Mehreen ...   \n",
      "8803                                                NaN   \n",
      "\n",
      "                                            country          date_added  \\\n",
      "1                                      South Africa  September 24, 2021   \n",
      "2                                               NaN  September 24, 2021   \n",
      "3                                               NaN  September 24, 2021   \n",
      "4                                             India  September 24, 2021   \n",
      "5                                               NaN  September 24, 2021   \n",
      "...                                             ...                 ...   \n",
      "8795                                  Japan, Canada         May 1, 2018   \n",
      "8796                                         Turkey    January 17, 2017   \n",
      "8797  United States, France, South Korea, Indonesia  September 13, 2018   \n",
      "8800                                       Pakistan   December 15, 2016   \n",
      "8803                                            NaN        July 1, 2019   \n",
      "\n",
      "      release_year rating   duration  \\\n",
      "1             2021  TV-MA  2 Seasons   \n",
      "2             2021  TV-MA   1 Season   \n",
      "3             2021  TV-MA   1 Season   \n",
      "4             2021  TV-MA  2 Seasons   \n",
      "5             2021  TV-MA   1 Season   \n",
      "...            ...    ...        ...   \n",
      "8795          2015  TV-Y7  2 Seasons   \n",
      "8796          2016  TV-PG  2 Seasons   \n",
      "8797          2016  TV-Y7  3 Seasons   \n",
      "8800          2012  TV-PG   1 Season   \n",
      "8803          2018  TV-Y7  2 Seasons   \n",
      "\n",
      "                                              listed_in  \\\n",
      "1       International TV Shows, TV Dramas, TV Mysteries   \n",
      "2     Crime TV Shows, International TV Shows, TV Act...   \n",
      "3                                Docuseries, Reality TV   \n",
      "4     International TV Shows, Romantic TV Shows, TV ...   \n",
      "5                    TV Dramas, TV Horror, TV Mysteries   \n",
      "...                                                 ...   \n",
      "8795                             Anime Series, Kids' TV   \n",
      "8796                  International TV Shows, TV Dramas   \n",
      "8797                                           Kids' TV   \n",
      "8800  International TV Shows, Romantic TV Shows, TV ...   \n",
      "8803             Kids' TV, Korean TV Shows, TV Comedies   \n",
      "\n",
      "                                            description  \n",
      "1     After crossing paths at a party, a Cape Town t...  \n",
      "2     To protect his family from a powerful drug lor...  \n",
      "3     Feuds, flirtations and toilet talk go down amo...  \n",
      "4     In a city of coaching centers known to train I...  \n",
      "5     The arrival of a charismatic young priest brin...  \n",
      "...                                                 ...  \n",
      "8795  Now that he's discovered the Pendulum Summonin...  \n",
      "8796  During the Mongol invasions, Yunus Emre leaves...  \n",
      "8797  Teen surfer Zak Storm is mysteriously transpor...  \n",
      "8800  Strong-willed, middle-class Kashaf and carefre...  \n",
      "8803  While living alone in a spooky town, a young g...  \n",
      "\n",
      "[2676 rows x 12 columns]\n"
     ]
    }
   ],
   "source": [
    "\n",
    "# 5. Records where the type is 'TV Show'\n",
    "tv_shows = df[df['type'] == 'TV Show']\n",
    "print(\"\\nTV Shows:\")\n",
    "print(tv_shows)"
   ]
  },
  {
   "cell_type": "code",
   "execution_count": 12,
   "id": "aff89ace-66b5-4c7c-b6ab-7e5571c34e8e",
   "metadata": {},
   "outputs": [],
   "source": [
    "\n",
    "# 6. Convert 'date_added' to datetime, extract year and month\n",
    "df['date_added'] = pd.to_datetime(df['date_added'], errors='coerce')  # avoid errors on bad data\n",
    "df['year_added'] = df['date_added'].dt.year\n",
    "df['month_added'] = df['date_added'].dt.month"
   ]
  },
  {
   "cell_type": "code",
   "execution_count": 13,
   "id": "0c5b5fca-2561-497c-86f4-5dcceed238fd",
   "metadata": {},
   "outputs": [
    {
     "name": "stdout",
     "output_type": "stream",
     "text": [
      "\n",
      "Number of Movies released in 2019:\n",
      "633\n"
     ]
    }
   ],
   "source": [
    "\n",
    "# 7. Number of movies released in 2019\n",
    "movies_2019 = df[(df['type'] == 'Movie') & (df['release_year'] == 2019)]\n",
    "print(\"\\nNumber of Movies released in 2019:\")\n",
    "print(len(movies_2019))"
   ]
  },
  {
   "cell_type": "code",
   "execution_count": 14,
   "id": "0f37ef32-e026-4fe9-a898-6747e0306031",
   "metadata": {},
   "outputs": [
    {
     "name": "stdout",
     "output_type": "stream",
     "text": [
      "\n",
      "Count of each rating category:\n",
      "rating\n",
      "TV-MA       3207\n",
      "TV-14       2160\n",
      "TV-PG        863\n",
      "R            799\n",
      "PG-13        490\n",
      "TV-Y7        334\n",
      "TV-Y         307\n",
      "PG           287\n",
      "TV-G         220\n",
      "NR            80\n",
      "G             41\n",
      "TV-Y7-FV       6\n",
      "NC-17          3\n",
      "UR             3\n",
      "74 min         1\n",
      "84 min         1\n",
      "66 min         1\n",
      "Name: count, dtype: int64\n"
     ]
    }
   ],
   "source": [
    "\n",
    "# 8. Group by rating and show the count of each category\n",
    "rating_counts = df['rating'].value_counts()\n",
    "print(\"\\nCount of each rating category:\")\n",
    "print(rating_counts)"
   ]
  },
  {
   "cell_type": "code",
   "execution_count": 15,
   "id": "cb8d7ad1-5713-4633-af84-06576af54ffc",
   "metadata": {},
   "outputs": [],
   "source": [
    "# PART 2: World Population Dat"
   ]
  },
  {
   "cell_type": "code",
   "execution_count": 16,
   "id": "4c401261-09c0-426e-9cd9-32fc611dbaa9",
   "metadata": {},
   "outputs": [
    {
     "name": "stdout",
     "output_type": "stream",
     "text": [
      "Top 10 rows:\n",
      "   Rank CCA3    Country/Territory           Capital      Continent  \\\n",
      "0    36  AFG          Afghanistan             Kabul           Asia   \n",
      "1   138  ALB              Albania            Tirana         Europe   \n",
      "2    34  DZA              Algeria           Algiers         Africa   \n",
      "3   213  ASM       American Samoa         Pago Pago        Oceania   \n",
      "4   203  AND              Andorra  Andorra la Vella         Europe   \n",
      "5    42  AGO               Angola            Luanda         Africa   \n",
      "6   224  AIA             Anguilla        The Valley  North America   \n",
      "7   201  ATG  Antigua and Barbuda      Saint John’s  North America   \n",
      "8    33  ARG            Argentina      Buenos Aires  South America   \n",
      "9   140  ARM              Armenia           Yerevan           Asia   \n",
      "\n",
      "   2022 Population  2020 Population  2015 Population  2010 Population  \\\n",
      "0         41128771         38972230         33753499         28189672   \n",
      "1          2842321          2866849          2882481          2913399   \n",
      "2         44903225         43451666         39543154         35856344   \n",
      "3            44273            46189            51368            54849   \n",
      "4            79824            77700            71746            71519   \n",
      "5         35588987         33428485         28127721         23364185   \n",
      "6            15857            15585            14525            13172   \n",
      "7            93763            92664            89941            85695   \n",
      "8         45510318         45036032         43257065         41100123   \n",
      "9          2780469          2805608          2878595          2946293   \n",
      "\n",
      "   2000 Population  1990 Population  1980 Population  1970 Population  \\\n",
      "0         19542982         10694796         12486631         10752971   \n",
      "1          3182021          3295066          2941651          2324731   \n",
      "2         30774621         25518074         18739378         13795915   \n",
      "3            58230            47818            32886            27075   \n",
      "4            66097            53569            35611            19860   \n",
      "5         16394062         11828638          8330047          6029700   \n",
      "6            11047             8316             6560             6283   \n",
      "7            75055            63328            64888            64516   \n",
      "8         37070774         32637657         28024803         23842803   \n",
      "9          3168523          3556539          3135123          2534377   \n",
      "\n",
      "   Area (km²)  Density (per km²)  Growth Rate  World Population Percentage  \n",
      "0      652230            63.0587       1.0257                         0.52  \n",
      "1       28748            98.8702       0.9957                         0.04  \n",
      "2     2381741            18.8531       1.0164                         0.56  \n",
      "3         199           222.4774       0.9831                         0.00  \n",
      "4         468           170.5641       1.0100                         0.00  \n",
      "5     1246700            28.5466       1.0315                         0.45  \n",
      "6          91           174.2527       1.0066                         0.00  \n",
      "7         442           212.1335       1.0058                         0.00  \n",
      "8     2780400            16.3683       1.0052                         0.57  \n",
      "9       29743            93.4831       0.9962                         0.03  \n"
     ]
    }
   ],
   "source": [
    "\n",
    "# 1. Load and display the top 10 rows\n",
    "df = pd.read_csv('world_population.csv')\n",
    "print(\"Top 10 rows:\")\n",
    "print(df.head(10))"
   ]
  },
  {
   "cell_type": "code",
   "execution_count": 18,
   "id": "f8f0d61a-3da3-491e-bbb4-657d8a339ed2",
   "metadata": {},
   "outputs": [
    {
     "name": "stdout",
     "output_type": "stream",
     "text": [
      "\n",
      "Null values in each column:\n",
      "Rank                           0\n",
      "CCA3                           0\n",
      "Country/Territory              0\n",
      "Capital                        0\n",
      "Continent                      0\n",
      "2022 Population                0\n",
      "2020 Population                0\n",
      "2015 Population                0\n",
      "2010 Population                0\n",
      "2000 Population                0\n",
      "1990 Population                0\n",
      "1980 Population                0\n",
      "1970 Population                0\n",
      "Area (km²)                     0\n",
      "Density (per km²)              0\n",
      "Growth Rate                    0\n",
      "World Population Percentage    0\n",
      "dtype: int64\n",
      "Column 'GDP' does not exist in the DataFrame\n"
     ]
    }
   ],
   "source": [
    "# 2. Check for null values and handle them appropriately\n",
    "print(\"\\nNull values in each column:\")\n",
    "print(df.isnull().sum())\n",
    "\n",
    "if 'GDP' in df.columns:\n",
    "    df['GDP'] = df['GDP'].fillna(df['GDP'].median())\n",
    "else:\n",
    "    print(\"Column 'GDP' does not exist in the DataFrame\")\n",
    "\n",
    "df = df.dropna()"
   ]
  },
  {
   "cell_type": "code",
   "execution_count": 30,
   "id": "aaa565ba-e415-4b80-96ac-0de31c1c110c",
   "metadata": {},
   "outputs": [
    {
     "name": "stdout",
     "output_type": "stream",
     "text": [
      "['Rank', 'CCA3', 'Country/Territory', 'Capital', 'Continent', '2022 Population', '2020 Population', '2015 Population', '2010 Population', '2000 Population', '1990 Population', '1980 Population', '1970 Population', 'Area (km²)', 'Density (per km²)', 'Growth Rate', 'World Population Percentage']\n",
      "\n",
      "Top 5 most populous countries:\n",
      "    Country/Territory  2022 Population\n",
      "41              China       1425887337\n",
      "92              India       1417173173\n",
      "221     United States        338289857\n",
      "93          Indonesia        275501339\n",
      "156          Pakistan        235824862\n"
     ]
    }
   ],
   "source": [
    "# 3. Population of the top 5 most populous countries\n",
    "print(df.columns.tolist())\n",
    "\n",
    "country_col = None\n",
    "for col in df.columns:\n",
    "    if 'country' in col.lower():\n",
    "        country_col = col\n",
    "        break\n",
    "else:\n",
    "    country_col = df.columns[0]\n",
    "\n",
    "population_col = None\n",
    "for col in df.columns:\n",
    "    if 'population' in col.lower():\n",
    "        population_col = col\n",
    "        break\n",
    "else:\n",
    "    population_col = 'Population'\n",
    "\n",
    "top_5 = df.sort_values(by=population_col, ascending=False).head(5)\n",
    "print(\"\\nTop 5 most populous countries:\")\n",
    "print(top_5[[country_col, population_col]])"
   ]
  },
  {
   "cell_type": "code",
   "execution_count": 31,
   "id": "9e457408-bd2c-42a2-ad2b-e6e738f97fd3",
   "metadata": {},
   "outputs": [
    {
     "name": "stdout",
     "output_type": "stream",
     "text": [
      "\n",
      "Top 5 most populous countries:\n",
      "    Country/Territory  2022 Population\n",
      "41              China       1425887337\n",
      "92              India       1417173173\n",
      "221     United States        338289857\n",
      "93          Indonesia        275501339\n",
      "156          Pakistan        235824862\n"
     ]
    }
   ],
   "source": [
    "# 4. Top 5 most populous countries\n",
    "top_5 = df.sort_values(by=population_col, ascending=False).head(5)\n",
    "print(\"\\nTop 5 most populous countries:\")\n",
    "print(top_5[[country_col, population_col]])"
   ]
  },
  {
   "cell_type": "code",
   "execution_count": 38,
   "id": "bd792111-fded-4fc3-83f0-aa294c70bf3e",
   "metadata": {},
   "outputs": [
    {
     "name": "stdout",
     "output_type": "stream",
     "text": [
      "\n",
      "🌍 Top 5 most populous countries:\n",
      "    Country/Territory  2022 Population\n",
      "41              China       1425887337\n",
      "92              India       1417173173\n",
      "221     United States        338289857\n",
      "93          Indonesia        275501339\n",
      "156          Pakistan        235824862\n"
     ]
    }
   ],
   "source": [
    "\n",
    "# 5. Population of top 5 most populous countries\n",
    "# Automatically detect the column containing 'population'\n",
    "population_col = next((col for col in df.columns if 'population' in col.lower()), None)\n",
    "country_col = next((col for col in df.columns if 'country' in col.lower()), df.columns[0])\n",
    "\n",
    "# Safety check\n",
    "if population_col is None:\n",
    "    raise KeyError(\"❌ No column found with 'population' in its name.\")\n",
    "\n",
    "# Convert population to numeric (just in case)\n",
    "df[population_col] = pd.to_numeric(df[population_col], errors='coerce')\n",
    "\n",
    "# Drop rows with missing population\n",
    "df = df.dropna(subset=[population_col])\n",
    "\n",
    "# Get top 5 most populous countries\n",
    "top_5 = df.sort_values(by=population_col, ascending=False).head(5)\n",
    "\n",
    "print(\"\\n🌍 Top 5 most populous countries:\")\n",
    "print(top_5[[country_col, population_col]])\n"
   ]
  },
  {
   "cell_type": "code",
   "execution_count": 40,
   "id": "31f3ad4c-8d42-4a67-9a62-43690a1e00dd",
   "metadata": {},
   "outputs": [
    {
     "name": "stdout",
     "output_type": "stream",
     "text": [
      "\n",
      "🌍 Top 5 most populous countries:\n",
      "    Country/Territory  2022 Population\n",
      "41              China       1425887337\n",
      "92              India       1417173173\n",
      "221     United States        338289857\n",
      "93          Indonesia        275501339\n",
      "156          Pakistan        235824862\n"
     ]
    }
   ],
   "source": [
    "# 6. Top 5 most populous countries (✔ corrected like you wanted)\n",
    "top_5 = df.sort_values(by=population_col, ascending=False).head(5)\n",
    "print(\"\\n🌍 Top 5 most populous countries:\")\n",
    "print(top_5[[country_col, population_col]])\n"
   ]
  },
  {
   "cell_type": "code",
   "execution_count": 53,
   "id": "c3ffb138-025f-47e8-8d46-362dde01e94a",
   "metadata": {},
   "outputs": [
    {
     "name": "stdout",
     "output_type": "stream",
     "text": [
      "\n",
      "📈 Top 10 countries by population density:\n",
      "    Country/Territory  Density (per km²)\n",
      "119             Macau         23172.2667\n",
      "134            Monaco         18234.5000\n",
      "187         Singapore          8416.4634\n",
      "89          Hong Kong          6783.3922\n",
      "76          Gibraltar          5441.5000\n",
      "15            Bahrain          1924.4876\n",
      "123          Maldives          1745.9567\n",
      "125             Malta          1687.6139\n",
      "188      Sint Maarten          1299.2647\n",
      "22            Bermuda          1188.5926\n"
     ]
    }
   ],
   "source": [
    "#7th\n",
    "df = pd.read_csv(\"world_population.csv\")\n",
    "\n",
    "# Set manually or detect dynamically\n",
    "country_col = next((col for col in df.columns if 'country' in col.lower()), df.columns[0])\n",
    "density_col = next((col for col in df.columns if 'density' in col.lower()), None)\n",
    "\n",
    "# Check both are found\n",
    "if not country_col or not density_col:\n",
    "    raise ValueError(\"Required columns not found.\")\n",
    "\n",
    "# Convert density to numeric\n",
    "df[density_col] = pd.to_numeric(df[density_col], errors='coerce')\n",
    "df = df.dropna(subset=[density_col])\n",
    "\n",
    "# Sort by population density descending\n",
    "sorted_density = df.sort_values(by=density_col, ascending=False)\n",
    "\n",
    "# ✅ Final print (use actual detected column names)\n",
    "print(\"\\n📈 Top 10 countries by population density:\")\n",
    "print(sorted_density[[country_col, density_col]].head(10))"
   ]
  },
  {
   "cell_type": "code",
   "execution_count": 54,
   "id": "0209f806-29b8-4672-b408-503099c1e766",
   "metadata": {},
   "outputs": [
    {
     "name": "stdout",
     "output_type": "stream",
     "text": [
      "\n",
      "📌 Top 10 most densely populated countries with population > 10 million:\n",
      "    Country/Territory  2022 Population  Density (per km²)\n",
      "16         Bangladesh        171186372          1160.0350\n",
      "203            Taiwan         23893394           660.1662\n",
      "172            Rwanda         13776698           523.0731\n",
      "194       South Korea         51815810           517.0722\n",
      "32            Burundi         12889576           463.0874\n",
      "92              India       1417173173           431.0675\n",
      "144       Netherlands         17564014           419.6897\n",
      "87              Haiti         11584996           417.4773\n",
      "19            Belgium         11655930           381.8111\n",
      "163       Philippines        115559009           337.5434\n"
     ]
    }
   ],
   "source": [
    "# Ensure population and density columns are already detected\n",
    "population_col = next((col for col in df.columns if 'population' in col.lower()), None)\n",
    "density_col = next((col for col in df.columns if 'density' in col.lower()), None)\n",
    "country_col = next((col for col in df.columns if 'country' in col.lower()), df.columns[0])\n",
    "\n",
    "# Convert to numeric if needed\n",
    "df[population_col] = pd.to_numeric(df[population_col], errors='coerce')\n",
    "df[density_col] = pd.to_numeric(df[density_col], errors='coerce')\n",
    "\n",
    "# Filter: population > 10 million\n",
    "filtered_df = df[df[population_col] > 10_000_000]\n",
    "\n",
    "# Sort by density descending\n",
    "top_densely_populated = filtered_df.sort_values(by=density_col, ascending=False).head(10)\n",
    "\n",
    "# Display result\n",
    "print(\"\\n📌 Top 10 most densely populated countries with population > 10 million:\")\n",
    "print(top_densely_populated[[country_col, population_col, density_col]])\n"
   ]
  },
  {
   "cell_type": "code",
   "execution_count": 55,
   "id": "dec67e86-a631-4925-bb7c-55bf417a7fe0",
   "metadata": {},
   "outputs": [
    {
     "name": "stdout",
     "output_type": "stream",
     "text": [
      "\n",
      "🌍 Country with the lowest population density (area > 1 million sq.km):\n",
      "   Country/Territory  Area (km²)  Density (per km²)\n",
      "78         Greenland     2166086             0.0261\n"
     ]
    }
   ],
   "source": [
    "# Detect column names\n",
    "area_col = next((col for col in df.columns if 'area' in col.lower()), None)\n",
    "density_col = next((col for col in df.columns if 'density' in col.lower()), None)\n",
    "country_col = next((col for col in df.columns if 'country' in col.lower()), df.columns[0])\n",
    "\n",
    "# Convert area and density to numeric\n",
    "df[area_col] = pd.to_numeric(df[area_col], errors='coerce')\n",
    "df[density_col] = pd.to_numeric(df[density_col], errors='coerce')\n",
    "\n",
    "# Filter countries with area > 1 million sq. km\n",
    "large_countries = df[df[area_col] > 1_000_000]\n",
    "\n",
    "# Find country with the lowest population density among them\n",
    "lowest_density = large_countries.sort_values(by=density_col, ascending=True).head(1)\n",
    "\n",
    "# Display result\n",
    "print(\"\\n🌍 Country with the lowest population density (area > 1 million sq.km):\")\n",
    "print(lowest_density[[country_col, area_col, density_col]])\n"
   ]
  },
  {
   "cell_type": "code",
   "execution_count": 56,
   "id": "2772deb0-11fd-4f19-9cac-0bdfc3f21f85",
   "metadata": {},
   "outputs": [],
   "source": [
    "# PART 3: Indian Premier League (IPL)"
   ]
  },
  {
   "cell_type": "code",
   "execution_count": 73,
   "id": "3ab5d08b-ab03-413d-a49d-e7d6fbdef2f0",
   "metadata": {},
   "outputs": [
    {
     "name": "stdout",
     "output_type": "stream",
     "text": [
      "        ID       City        Date Season  MatchNumber  \\\n",
      "0  1312200  Ahmedabad  2022-05-29   2022        Final   \n",
      "1  1312199  Ahmedabad  2022-05-27   2022  Qualifier 2   \n",
      "2  1312198    Kolkata  2022-05-25   2022   Eliminator   \n",
      "3  1312197    Kolkata  2022-05-24   2022  Qualifier 1   \n",
      "4  1304116     Mumbai  2022-05-22   2022           70   \n",
      "\n",
      "                         Team1                 Team2  \\\n",
      "0             Rajasthan Royals        Gujarat Titans   \n",
      "1  Royal Challengers Bangalore      Rajasthan Royals   \n",
      "2  Royal Challengers Bangalore  Lucknow Super Giants   \n",
      "3             Rajasthan Royals        Gujarat Titans   \n",
      "4          Sunrisers Hyderabad          Punjab Kings   \n",
      "\n",
      "                              Venue            TossWinner TossDecision  \\\n",
      "0  Narendra Modi Stadium, Ahmedabad      Rajasthan Royals          bat   \n",
      "1  Narendra Modi Stadium, Ahmedabad      Rajasthan Royals        field   \n",
      "2             Eden Gardens, Kolkata  Lucknow Super Giants        field   \n",
      "3             Eden Gardens, Kolkata        Gujarat Titans        field   \n",
      "4          Wankhede Stadium, Mumbai   Sunrisers Hyderabad          bat   \n",
      "\n",
      "  SuperOver                  WinningTeam    WonBy  Margin method  \\\n",
      "0         N               Gujarat Titans  Wickets     7.0    NaN   \n",
      "1         N             Rajasthan Royals  Wickets     7.0    NaN   \n",
      "2         N  Royal Challengers Bangalore     Runs    14.0    NaN   \n",
      "3         N               Gujarat Titans  Wickets     7.0    NaN   \n",
      "4         N                 Punjab Kings  Wickets     5.0    NaN   \n",
      "\n",
      "  Player_of_Match                                       Team1Players  \\\n",
      "0       HH Pandya  ['YBK Jaiswal', 'JC Buttler', 'SV Samson', 'D ...   \n",
      "1      JC Buttler  ['V Kohli', 'F du Plessis', 'RM Patidar', 'GJ ...   \n",
      "2      RM Patidar  ['V Kohli', 'F du Plessis', 'RM Patidar', 'GJ ...   \n",
      "3       DA Miller  ['YBK Jaiswal', 'JC Buttler', 'SV Samson', 'D ...   \n",
      "4   Harpreet Brar  ['PK Garg', 'Abhishek Sharma', 'RA Tripathi', ...   \n",
      "\n",
      "                                        Team2Players        Umpire1  \\\n",
      "0  ['WP Saha', 'Shubman Gill', 'MS Wade', 'HH Pan...    CB Gaffaney   \n",
      "1  ['YBK Jaiswal', 'JC Buttler', 'SV Samson', 'D ...    CB Gaffaney   \n",
      "2  ['Q de Kock', 'KL Rahul', 'M Vohra', 'DJ Hooda...  J Madanagopal   \n",
      "3  ['WP Saha', 'Shubman Gill', 'MS Wade', 'HH Pan...   BNJ Oxenford   \n",
      "4  ['JM Bairstow', 'S Dhawan', 'M Shahrukh Khan',...   AK Chaudhary   \n",
      "\n",
      "         Umpire2  \n",
      "0    Nitin Menon  \n",
      "1    Nitin Menon  \n",
      "2       MA Gough  \n",
      "3      VK Sharma  \n",
      "4  NA Patwardhan  \n"
     ]
    }
   ],
   "source": [
    "#1\n",
    "# Load matches dataset\n",
    "matches = pd.read_csv(\"ipl-matches.csv\")\n",
    "deliveries = pd.read_csv(\"deliveries.csv\")\n",
    "\n",
    "# Show first few rows\n",
    "\n",
    "print(matches.head())"
   ]
  },
  {
   "cell_type": "code",
   "execution_count": 63,
   "id": "a8927368-425a-4d1f-a526-690826cb2cc4",
   "metadata": {},
   "outputs": [
    {
     "name": "stdout",
     "output_type": "stream",
     "text": [
      "\n",
      " Most successful teams (by number of wins):\n",
      "TossWinner\n",
      "Mumbai Indians                 123\n",
      "Kolkata Knight Riders          114\n",
      "Chennai Super Kings            109\n",
      "Royal Challengers Bangalore    105\n",
      "Rajasthan Royals                99\n",
      "Kings XI Punjab                 85\n",
      "Delhi Daredevils                80\n",
      "Sunrisers Hyderabad             74\n",
      "Deccan Chargers                 43\n",
      "Delhi Capitals                  36\n",
      "Pune Warriors                   20\n",
      "Gujarat Lions                   15\n",
      "Gujarat Titans                  10\n",
      "Punjab Kings                     9\n",
      "Kochi Tuskers Kerala             8\n",
      "Lucknow Super Giants             7\n",
      "Rising Pune Supergiants          7\n",
      "Rising Pune Supergiant           6\n",
      "Name: count, dtype: int64\n"
     ]
    }
   ],
   "source": [
    " 2# Try to detect 'winner' column automatically\n",
    "winner_col = next((col for col in matches.columns if 'winner' in col.lower()), None)\n",
    "\n",
    "if winner_col is None:\n",
    "    raise ValueError(\" winner' column not found in matches.csv. Please check the column names.\")\n",
    "\n",
    "# Count number of wins per team\n",
    "most_successful_team = matches[winner_col].value_counts()\n",
    "\n",
    "print(\"\\n Most successful teams (by number of wins):\")\n",
    "print(most_successful_team)\n"
   ]
  },
  {
   "cell_type": "code",
   "execution_count": 67,
   "id": "e1356871-9959-4dc2-b5ad-93402fa947bc",
   "metadata": {},
   "outputs": [
    {
     "name": "stdout",
     "output_type": "stream",
     "text": [
      "\n",
      " Total matches played in each season:\n",
      "Season\n",
      "2007/08    58\n",
      "2009       57\n",
      "2009/10    60\n",
      "2011       73\n",
      "2012       74\n",
      "2013       76\n",
      "2014       60\n",
      "2015       59\n",
      "2016       60\n",
      "2017       59\n",
      "2018       60\n",
      "2019       60\n",
      "2020/21    60\n",
      "2021       60\n",
      "2022       74\n",
      "Name: count, dtype: int64\n"
     ]
    }
   ],
   "source": [
    "#3: Count total matches played each season\n",
    "season_col = next((col for col in matches.columns if 'season' in col.lower() or 'year' in col.lower()), None)\n",
    "\n",
    "if season_col is None:\n",
    "    raise ValueError(\"❌ Could not find a 'season' or 'year' column in matches.csv\")\n",
    "\n",
    "# Count number of matches per season\n",
    "matches_per_season = matches[season_col].value_counts().sort_index()\n",
    "\n",
    "print(\"\\n Total matches played in each season:\")\n",
    "print(matches_per_season)\n"
   ]
  },
  {
   "cell_type": "code",
   "execution_count": 66,
   "id": "9eb4cfbf-23a5-4149-8f9a-bdec00c32805",
   "metadata": {},
   "outputs": [
    {
     "name": "stdout",
     "output_type": "stream",
     "text": [
      "\n",
      " Top 5 players with most 'Player of the Match' awards:\n",
      "Player_of_Match\n",
      "AB de Villiers    25\n",
      "CH Gayle          22\n",
      "DA Warner         18\n",
      "RG Sharma         18\n",
      "MS Dhoni          17\n",
      "Name: count, dtype: int64\n"
     ]
    }
   ],
   "source": [
    "\n",
    "\n",
    "# 4 Top 5 players who won the most \"Player of the Match\" awards\n",
    "pom_col = next((col for col in matches.columns if 'player' in col.lower() and 'match' in col.lower()), None)\n",
    "\n",
    "if pom_col is None:\n",
    "    raise ValueError(\"❌ 'Player of the Match' column not found!\")\n",
    "\n",
    "# Count most frequent award winners\n",
    "top_players = matches[pom_col].value_counts().head(5)\n",
    "\n",
    "print(\"\\n Top 5 players with most 'Player of the Match' awards:\")\n",
    "print(top_players)\n"
   ]
  },
  {
   "cell_type": "code",
   "execution_count": 82,
   "id": "06148b23-dd8c-4e1c-9b08-072087f1c8f4",
   "metadata": {},
   "outputs": [
    {
     "name": "stdout",
     "output_type": "stream",
     "text": [
      "\n",
      "✅ Merged data preview:\n",
      "   match_id  inning           batting_team                 bowling_team  over  \\\n",
      "0    335982       1  Kolkata Knight Riders  Royal Challengers Bangalore     0   \n",
      "1    335982       1  Kolkata Knight Riders  Royal Challengers Bangalore     0   \n",
      "2    335982       1  Kolkata Knight Riders  Royal Challengers Bangalore     0   \n",
      "3    335982       1  Kolkata Knight Riders  Royal Challengers Bangalore     0   \n",
      "4    335982       1  Kolkata Knight Riders  Royal Challengers Bangalore     0   \n",
      "\n",
      "   ball       batter   bowler  non_striker  batsman_runs  ...  SuperOver  \\\n",
      "0     1   SC Ganguly  P Kumar  BB McCullum             0  ...          N   \n",
      "1     2  BB McCullum  P Kumar   SC Ganguly             0  ...          N   \n",
      "2     3  BB McCullum  P Kumar   SC Ganguly             0  ...          N   \n",
      "3     4  BB McCullum  P Kumar   SC Ganguly             0  ...          N   \n",
      "4     5  BB McCullum  P Kumar   SC Ganguly             0  ...          N   \n",
      "\n",
      "             WinningTeam WonBy  Margin method Player_of_Match  \\\n",
      "0  Kolkata Knight Riders  Runs   140.0    NaN     BB McCullum   \n",
      "1  Kolkata Knight Riders  Runs   140.0    NaN     BB McCullum   \n",
      "2  Kolkata Knight Riders  Runs   140.0    NaN     BB McCullum   \n",
      "3  Kolkata Knight Riders  Runs   140.0    NaN     BB McCullum   \n",
      "4  Kolkata Knight Riders  Runs   140.0    NaN     BB McCullum   \n",
      "\n",
      "                                        Team1Players  \\\n",
      "0  ['R Dravid', 'W Jaffer', 'V Kohli', 'JH Kallis...   \n",
      "1  ['R Dravid', 'W Jaffer', 'V Kohli', 'JH Kallis...   \n",
      "2  ['R Dravid', 'W Jaffer', 'V Kohli', 'JH Kallis...   \n",
      "3  ['R Dravid', 'W Jaffer', 'V Kohli', 'JH Kallis...   \n",
      "4  ['R Dravid', 'W Jaffer', 'V Kohli', 'JH Kallis...   \n",
      "\n",
      "                                        Team2Players    Umpire1      Umpire2  \n",
      "0  ['SC Ganguly', 'BB McCullum', 'RT Ponting', 'D...  Asad Rauf  RE Koertzen  \n",
      "1  ['SC Ganguly', 'BB McCullum', 'RT Ponting', 'D...  Asad Rauf  RE Koertzen  \n",
      "2  ['SC Ganguly', 'BB McCullum', 'RT Ponting', 'D...  Asad Rauf  RE Koertzen  \n",
      "3  ['SC Ganguly', 'BB McCullum', 'RT Ponting', 'D...  Asad Rauf  RE Koertzen  \n",
      "4  ['SC Ganguly', 'BB McCullum', 'RT Ponting', 'D...  Asad Rauf  RE Koertzen  \n",
      "\n",
      "[5 rows x 36 columns]\n"
     ]
    }
   ],
   "source": [
    "#5 Example: If matches has 'match_id' column\n",
    "merged = pd.merge(deliveries, matches, on='match_id')\n",
    "print(\"\\n✅ Merged data preview:\")\n",
    "print(merged.head())\n",
    "\n",
    "\n"
   ]
  },
  {
   "cell_type": "code",
   "execution_count": 83,
   "id": "70ba93a2-2fbc-47a4-8b67-0937df424089",
   "metadata": {},
   "outputs": [
    {
     "name": "stdout",
     "output_type": "stream",
     "text": [
      "✅ Data loaded successfully.\n",
      "   gender race/ethnicity parental level of education         lunch  \\\n",
      "0  female        group B           bachelor's degree      standard   \n",
      "1  female        group C                some college      standard   \n",
      "2  female        group B             master's degree      standard   \n",
      "3    male        group A          associate's degree  free/reduced   \n",
      "4    male        group C                some college      standard   \n",
      "\n",
      "  test preparation course  math score  reading score  writing score  \n",
      "0                    none          72             72             74  \n",
      "1               completed          69             90             88  \n",
      "2                    none          90             95             93  \n",
      "3                    none          47             57             44  \n",
      "4                    none          76             78             75  \n"
     ]
    }
   ],
   "source": [
    "\n",
    "df = pd.read_csv(\"StudentsPerformance.csv\")\n",
    "print(\" Data loaded successfully.\")\n",
    "print(df.head())"
   ]
  },
  {
   "cell_type": "code",
   "execution_count": 84,
   "id": "c9c4b13a-3b53-4956-b056-fa9c16edbe84",
   "metadata": {},
   "outputs": [
    {
     "name": "stdout",
     "output_type": "stream",
     "text": [
      "\n",
      "📊 Average Marks:\n",
      "Math: 66.089\n",
      "Reading: 69.169\n",
      "Writing: 68.054\n"
     ]
    }
   ],
   "source": [
    " #Task 1: Display average marks in math, reading, and writing\n",
    "\n",
    "print(\"\\n📊 Average Marks:\")\n",
    "print(\"Math:\", df['math score'].mean())\n",
    "print(\"Reading:\", df['reading score'].mean())\n",
    "print(\"Writing:\", df['writing score'].mean())"
   ]
  },
  {
   "cell_type": "code",
   "execution_count": 85,
   "id": "38e34938-cec0-45c1-a2a4-cab5f673d419",
   "metadata": {},
   "outputs": [
    {
     "name": "stdout",
     "output_type": "stream",
     "text": [
      "Average writing score by gender:\n",
      "gender\n",
      "female    72.467181\n",
      "male      63.311203\n",
      "Name: writing score, dtype: float64\n"
     ]
    }
   ],
   "source": [
    "print(\"Average writing score by gender:\")\n",
    "print(df.groupby('gender')['writing score'].mean())"
   ]
  },
  {
   "cell_type": "code",
   "execution_count": 86,
   "id": "680463c2-0332-40a6-99f4-5900529a77b3",
   "metadata": {},
   "outputs": [
    {
     "name": "stdout",
     "output_type": "stream",
     "text": [
      " Added 'total_score' and 'percentage' columns.\n",
      "   math score  reading score  writing score  total_score  percentage\n",
      "0          72             72             74          218   72.666667\n",
      "1          69             90             88          247   82.333333\n",
      "2          90             95             93          278   92.666667\n",
      "3          47             57             44          148   49.333333\n",
      "4          76             78             75          229   76.333333\n"
     ]
    }
   ],
   "source": [
    "df['total_score'] = df['math score'] + df['reading score'] + df['writing score']\n",
    "df['percentage'] = df['total_score'] / 3\n",
    "\n",
    "print(\" Added 'total_score' and 'percentage' columns.\")\n",
    "print(df[['math score', 'reading score', 'writing score', 'total_score', 'percentage']].head())\n"
   ]
  },
  {
   "cell_type": "code",
   "execution_count": 89,
   "id": "4598990c-9b62-444b-8bbf-5dcd5df0bc6f",
   "metadata": {},
   "outputs": [
    {
     "data": {
      "image/png": "[encoded data removed]",
      "text/plain": [
       "<Figure size 1000x600 with 1 Axes>"
      ]
     },
     "metadata": {},
     "output_type": "display_data"
    }
   ],
   "source": [
    "import matplotlib.pyplot as plt\n",
    "\n",
    "grouped = df.groupby('parental level of education')[['math score', 'reading score', 'writing score']].mean()\n",
    "\n",
    "grouped.plot(kind='bar', figsize=(10,6))\n",
    "plt.title(\" Average Scores by Parental Level of Education\")\n",
    "plt.ylabel(\"Average Score\")\n",
    "plt.xticks(rotation=45)\n",
    "plt.tight_layout()\n",
    "plt.show()"
   ]
  },
  {
   "cell_type": "code",
   "execution_count": 91,
   "id": "843c9b56-0a6f-4a69-b2aa-291d66acbcc7",
   "metadata": {},
   "outputs": [
    {
     "name": "stdout",
     "output_type": "stream",
     "text": [
      " Students who scored above 90%:\n",
      "     gender  math score  reading score  writing score  percentage\n",
      "2    female          90             95             93   92.666667\n",
      "6    female          88             95             92   91.666667\n",
      "104    male          98             86             90   91.333333\n",
      "106  female          87            100            100   95.666667\n",
      "114  female          99            100            100   99.666667\n",
      "121    male          91             89             92   90.666667\n",
      "122  female          88             93             93   91.333333\n",
      "149    male         100            100             93   97.666667\n",
      "165  female          96            100            100   98.666667\n",
      "179  female          97            100            100   99.000000\n",
      "229  female          88             95             94   92.333333\n",
      "263  female          99             93             90   94.000000\n",
      "268  female          88             92             95   91.666667\n",
      "334  female          83             93             95   90.333333\n",
      "373  female          82             97             96   91.666667\n",
      "377  female          85             95            100   93.333333\n",
      "381    male          87            100             95   94.000000\n",
      "403  female          88             99            100   95.666667\n",
      "451  female         100             92             97   96.333333\n",
      "458  female         100            100            100  100.000000\n",
      "474  female          90             90             91   90.333333\n",
      "501  female          94             87             92   91.000000\n",
      "503  female          95             89             92   92.000000\n",
      "539    male          97             92             86   91.666667\n",
      "546  female          92            100             97   96.333333\n",
      "562    male          96             90             92   92.666667\n",
      "566  female          92            100            100   97.333333\n",
      "571    male          91             96             92   93.000000\n",
      "580  female          81             97             96   91.333333\n",
      "594  female          92            100             99   97.000000\n",
      "612    male          94             90             91   91.666667\n",
      "623    male         100             96             86   94.000000\n",
      "625    male         100             97             99   98.666667\n",
      "685  female          94             99            100   97.666667\n",
      "712  female          98            100             99   99.000000\n",
      "717  female          96             96             99   97.000000\n",
      "755  female          84             95             92   90.333333\n",
      "802  female          87             94             95   92.000000\n",
      "855  female          97             97             96   96.666667\n",
      "864    male          97             93             91   93.666667\n",
      "886  female          93            100             95   96.000000\n",
      "903  female          93            100            100   97.666667\n",
      "916    male         100            100            100  100.000000\n",
      "919    male          91             96             91   92.666667\n",
      "934    male          98             87             90   91.666667\n",
      "957  female          92            100            100   97.333333\n",
      "962  female         100            100            100  100.000000\n",
      "970  female          89            100            100   96.333333\n",
      "979  female          91             95             94   93.333333\n",
      "995  female          88             99             95   94.000000\n"
     ]
    }
   ],
   "source": [
    "high_scorers = df[df['percentage'] > 90]\n",
    "print(\" Students who scored above 90%:\")\n",
    "print(high_scorers[['gender', 'math score', 'reading score', 'writing score', 'percentage']])"
   ]
  },
  {
   "cell_type": "code",
   "execution_count": 92,
   "id": "23587ba5-166d-498f-83be-f69bddb1f5e7",
   "metadata": {},
   "outputs": [],
   "source": [
    "# PART 5: Flight Price Predi"
   ]
  },
  {
   "cell_type": "code",
   "execution_count": 94,
   "id": "cdc1b537-fddf-4684-b229-215973540cf1",
   "metadata": {},
   "outputs": [
    {
     "name": "stdout",
     "output_type": "stream",
     "text": [
      " Data loaded successfully!\n"
     ]
    }
   ],
   "source": [
    "\n",
    "df = pd.read_csv(\"Clean_Dataset.csv\")\n",
    "print(\" Data loaded successfully!\")"
   ]
  },
  {
   "cell_type": "code",
   "execution_count": 95,
   "id": "2509bc8e-605b-466f-b180-b44dcb54b009",
   "metadata": {},
   "outputs": [
    {
     "name": "stdout",
     "output_type": "stream",
     "text": [
      " Dataset Info:\n",
      "<class 'pandas.core.frame.DataFrame'>\n",
      "RangeIndex: 300153 entries, 0 to 300152\n",
      "Data columns (total 12 columns):\n",
      " #   Column            Non-Null Count   Dtype  \n",
      "---  ------            --------------   -----  \n",
      " 0   Unnamed: 0        300153 non-null  int64  \n",
      " 1   airline           300153 non-null  object \n",
      " 2   flight            300153 non-null  object \n",
      " 3   source_city       300153 non-null  object \n",
      " 4   departure_time    300153 non-null  object \n",
      " 5   stops             300153 non-null  object \n",
      " 6   arrival_time      300153 non-null  object \n",
      " 7   destination_city  300153 non-null  object \n",
      " 8   class             300153 non-null  object \n",
      " 9   duration          300153 non-null  float64\n",
      " 10  days_left         300153 non-null  int64  \n",
      " 11  price             300153 non-null  int64  \n",
      "dtypes: float64(1), int64(3), object(8)\n",
      "memory usage: 27.5+ MB\n",
      " Descriptive Statistics:\n",
      "          Unnamed: 0       duration      days_left          price\n",
      "count  300153.000000  300153.000000  300153.000000  300153.000000\n",
      "mean   150076.000000      12.221021      26.004751   20889.660523\n",
      "std     86646.852011       7.191997      13.561004   22697.767366\n",
      "min         0.000000       0.830000       1.000000    1105.000000\n",
      "25%     75038.000000       6.830000      15.000000    4783.000000\n",
      "50%    150076.000000      11.250000      26.000000    7425.000000\n",
      "75%    225114.000000      16.170000      38.000000   42521.000000\n",
      "max    300152.000000      49.830000      49.000000  123071.000000\n"
     ]
    }
   ],
   "source": [
    "print(\" Dataset Info:\")\n",
    "df.info()\n",
    "\n",
    "print(\" Descriptive Statistics:\")\n",
    "print(df.describe())"
   ]
  },
  {
   "cell_type": "code",
   "execution_count": 98,
   "id": "3c95800f-51fd-4d9a-b4de-ce1ba48c670c",
   "metadata": {},
   "outputs": [],
   "source": [
    "df['departure_time'] = pd.to_datetime(df['departure_time'], errors='coerce')\n",
    "df['arrival_time'] = pd.to_datetime(df['arrival_time'], errors='coerce')"
   ]
  },
  {
   "cell_type": "code",
   "execution_count": 99,
   "id": "523287d4-cdae-4e2b-bc21-e002a4cf2113",
   "metadata": {},
   "outputs": [
    {
     "name": "stdout",
     "output_type": "stream",
     "text": [
      "  departure_time  Journey_Day  Journey_Month\n",
      "0            NaT          NaN            NaN\n",
      "1            NaT          NaN            NaN\n",
      "2            NaT          NaN            NaN\n",
      "3            NaT          NaN            NaN\n",
      "4            NaT          NaN            NaN\n"
     ]
    }
   ],
   "source": [
    "df['Journey_Day'] = df['departure_time'].dt.day\n",
    "df['Journey_Month'] = df['departure_time'].dt.month\n",
    "\n",
    "print(df[['departure_time', 'Journey_Day', 'Journey_Month']].head())\n"
   ]
  },
  {
   "cell_type": "code",
   "execution_count": 101,
   "id": "cca6333b-5bfa-4165-acb8-0b08f5de0dd6",
   "metadata": {},
   "outputs": [
    {
     "name": "stdout",
     "output_type": "stream",
     "text": [
      " Most Frequent Airline: Vistara\n",
      " Most Frequent Source City: Delhi\n"
     ]
    }
   ],
   "source": [
    "# 🔍 Most frequent airline\n",
    "most_frequent_airline = df['airline'].value_counts().idxmax()\n",
    "print(\" Most Frequent Airline:\", most_frequent_airline)\n",
    "\n",
    "# 🔍 Most frequent source city\n",
    "most_frequent_source = df['source_city'].value_counts().idxmax()\n",
    "print(\" Most Frequent Source City:\", most_frequent_source)\n"
   ]
  },
  {
   "cell_type": "code",
   "execution_count": null,
   "id": "c52eed33-89b2-48e8-af3e-1bee8bb33d84",
   "metadata": {},
   "outputs": [],
   "source": []
  }
 ],
 "metadata": {
  "kernelspec": {
   "display_name": "Python [conda env:base] *",
   "language": "python",
   "name": "conda-base-py"
  },
  "language_info": {
   "codemirror_mode": {
    "name": "ipython",
    "version": 3
   },
   "file_extension": ".py",
   "mimetype": "text/x-python",
   "name": "python",
   "nbconvert_exporter": "python",
   "pygments_lexer": "ipython3",
   "version": "3.12.7"
  }
 },
 "nbformat": 4,
 "nbformat_minor": 5
}
